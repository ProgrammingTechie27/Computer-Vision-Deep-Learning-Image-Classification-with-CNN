{
 "cells": [
  {
   "cell_type": "code",
   "execution_count": 5,
   "id": "bc7f1a81-1434-44f2-869e-d67a0ef953c4",
   "metadata": {},
   "outputs": [],
   "source": [
    "import os\n",
    "import numpy as np\n",
    "from tensorflow.keras.models import load_model\n",
    "from tensorflow.keras.preprocessing import image"
   ]
  },
  {
   "cell_type": "code",
   "execution_count": 7,
   "id": "0c97dd5c-7ccd-42aa-a088-209eca8e078f",
   "metadata": {},
   "outputs": [],
   "source": [
    "model_path = \"./model.h5\"\n",
    "image_folder = \"./data\""
   ]
  },
  {
   "cell_type": "code",
   "execution_count": 9,
   "id": "7fe045cb-a8c4-4e2c-8306-98c69054b866",
   "metadata": {},
   "outputs": [
    {
     "name": "stderr",
     "output_type": "stream",
     "text": [
      "WARNING:absl:Compiled the loaded model, but the compiled metrics have yet to be built. `model.compile_metrics` will be empty until you train or evaluate the model.\n"
     ]
    },
    {
     "name": "stdout",
     "output_type": "stream",
     "text": [
      "Model loaded successfully!\n"
     ]
    }
   ],
   "source": [
    "# Load model\n",
    "loaded_model = load_model(model_path)\n",
    "\n",
    "print(\"Model loaded successfully!\")"
   ]
  },
  {
   "cell_type": "code",
   "execution_count": 11,
   "id": "b8c19931-6b17-41e7-b188-8db2e6639b37",
   "metadata": {},
   "outputs": [],
   "source": [
    "# Generate predictions on unseen images\n",
    "# Define image preprocessing funtion\n",
    "def image_preprocess(img_path, target_size=(32, 32)):\n",
    "    img = image.load_img(img_path, target_size=target_size)\n",
    "    img_array = image.img_to_array(img)\n",
    "    img_array = np.expand_dims(img_array, axis=0)  # Add batch dimension\n",
    "    img_array = img_array / 255.0  # Normalize if required\n",
    "    return img_array"
   ]
  },
  {
   "cell_type": "code",
   "execution_count": 21,
   "id": "11e72ff4-8f52-4e8b-82d2-41a904f1e333",
   "metadata": {},
   "outputs": [
    {
     "name": "stdout",
     "output_type": "stream",
     "text": [
      "\u001b[1m1/1\u001b[0m \u001b[32m━━━━━━━━━━━━━━━━━━━━\u001b[0m\u001b[37m\u001b[0m \u001b[1m0s\u001b[0m 36ms/step\n",
      "Predicted class: bird, Probability: 0.9952201247215271\n",
      "\u001b[1m1/1\u001b[0m \u001b[32m━━━━━━━━━━━━━━━━━━━━\u001b[0m\u001b[37m\u001b[0m \u001b[1m0s\u001b[0m 34ms/step\n",
      "Predicted class: cat, Probability: 0.3439529240131378\n",
      "\u001b[1m1/1\u001b[0m \u001b[32m━━━━━━━━━━━━━━━━━━━━\u001b[0m\u001b[37m\u001b[0m \u001b[1m0s\u001b[0m 36ms/step\n",
      "Predicted class: deer, Probability: 0.4996057152748108\n",
      "\u001b[1m1/1\u001b[0m \u001b[32m━━━━━━━━━━━━━━━━━━━━\u001b[0m\u001b[37m\u001b[0m \u001b[1m0s\u001b[0m 33ms/step\n",
      "Predicted class: deer, Probability: 0.9787014722824097\n",
      "\u001b[1m1/1\u001b[0m \u001b[32m━━━━━━━━━━━━━━━━━━━━\u001b[0m\u001b[37m\u001b[0m \u001b[1m0s\u001b[0m 35ms/step\n",
      "Predicted class: frog, Probability: 0.9999918937683105\n",
      "\u001b[1m1/1\u001b[0m \u001b[32m━━━━━━━━━━━━━━━━━━━━\u001b[0m\u001b[37m\u001b[0m \u001b[1m0s\u001b[0m 33ms/step\n",
      "Predicted class: airplane, Probability: 0.9853677153587341\n",
      "\u001b[1m1/1\u001b[0m \u001b[32m━━━━━━━━━━━━━━━━━━━━\u001b[0m\u001b[37m\u001b[0m \u001b[1m0s\u001b[0m 40ms/step\n",
      "Predicted class: truck, Probability: 0.9994990825653076\n"
     ]
    }
   ],
   "source": [
    "# Read and predict on images in the folder\n",
    "for img_file in os.listdir(image_folder):\n",
    "    if img_file.endswith(('.png', '.jpg', '.jpeg')):  # Process image files only\n",
    "        img_path = os.path.join(image_folder, img_file)\n",
    "        img_array = image_preprocess(img_path)\n",
    "\n",
    "        # Make prediction\n",
    "        prediction = loaded_model.predict(img_array)\n",
    "\n",
    "        # Class labels\n",
    "        class_names = ['airplane', 'automobile', 'bird', 'cat', 'deer', 'dog', 'frog', 'horse', 'ship', 'truck']\n",
    "\n",
    "        # Get the predicted class index\n",
    "        predicted_class_index = np.argmax(prediction)\n",
    "\n",
    "        # Get the predicted class name\n",
    "        predicted_class_name = class_names[predicted_class_index]\n",
    "        \n",
    "        # Print the predicted class name and the corresponding probability\n",
    "        print(f\"Predicted class: {predicted_class_name}, Probability: {np.max(prediction)}\")"
   ]
  }
 ],
 "metadata": {
  "kernelspec": {
   "display_name": "Python 3 (ipykernel)",
   "language": "python",
   "name": "python3"
  },
  "language_info": {
   "codemirror_mode": {
    "name": "ipython",
    "version": 3
   },
   "file_extension": ".py",
   "mimetype": "text/x-python",
   "name": "python",
   "nbconvert_exporter": "python",
   "pygments_lexer": "ipython3",
   "version": "3.12.7"
  }
 },
 "nbformat": 4,
 "nbformat_minor": 5
}
