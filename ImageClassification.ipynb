{
 "cells": [
  {
   "cell_type": "code",
   "execution_count": null,
   "id": "c9f2b58e-4b14-4980-a77a-9bead5d95ec8",
   "metadata": {},
   "outputs": [],
   "source": []
  }
 ],
 "metadata": {
  "kernelspec": {
   "display_name": "",
   "name": ""
  },
  "language_info": {
   "name": ""
  }
 },
 "nbformat": 4,
 "nbformat_minor": 5
}
